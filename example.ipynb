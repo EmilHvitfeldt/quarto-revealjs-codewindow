{
  "cells": [
    {
      "cell_type": "raw",
      "metadata": {},
      "source": [
        "---\n",
        "title: \"codewindow Example\"\n",
        "format:\n",
        "  revealjs: default\n",
        "revealjs-plugins:\n",
        "  - codewindow\n",
        "---"
      ],
      "id": "4f923d6c"
    },
    {
      "cell_type": "markdown",
      "metadata": {},
      "source": [
        "# In the morning\n",
        "\n",
        "::: {.codewindow .sass}\n",
        "\n",
        "```{scss}\n",
        ".pink {\n",
        "  color: pink;\n",
        "}\n",
        "```\n",
        "\n",
        ":::\n",
        "\n",
        "## Getting up\n",
        "\n",
        "- Turn off alarm\n",
        "- Get out of bed\n",
        "\n",
        "## Breakfast\n",
        "\n",
        "- Eat eggs\n",
        "- Drink coffee\n",
        "\n",
        "# In the evening\n",
        "\n",
        "## Dinner\n",
        "\n",
        "- Eat spaghetti\n",
        "- Drink wine\n",
        "\n",
        "## Going to sleep\n",
        "\n",
        "- Get in bed\n",
        "- Count sheep"
      ],
      "id": "1f94be06"
    }
  ],
  "metadata": {
    "kernelspec": {
      "display_name": "Python 3",
      "language": "python",
      "name": "python3"
    }
  },
  "nbformat": 4,
  "nbformat_minor": 5
}